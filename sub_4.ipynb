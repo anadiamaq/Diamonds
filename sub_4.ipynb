{
 "cells": [
  {
   "cell_type": "code",
   "execution_count": 1,
   "id": "40b14d76",
   "metadata": {},
   "outputs": [],
   "source": [
    "import pandas as pd\n",
    "import numpy as np"
   ]
  },
  {
   "cell_type": "code",
   "execution_count": 2,
   "id": "0386b7e0",
   "metadata": {},
   "outputs": [],
   "source": [
    "df = pd.read_csv('data.csv')"
   ]
  },
  {
   "cell_type": "code",
   "execution_count": 3,
   "id": "9cf11f9f",
   "metadata": {},
   "outputs": [],
   "source": [
    "y = df[\"price\"]\n",
    "X = df.drop(columns=[\"price\"])"
   ]
  },
  {
   "cell_type": "code",
   "execution_count": 4,
   "id": "614ca5f1",
   "metadata": {},
   "outputs": [],
   "source": [
    "from sklearn.preprocessing import LabelEncoder"
   ]
  },
  {
   "cell_type": "code",
   "execution_count": 5,
   "id": "c3564eea",
   "metadata": {},
   "outputs": [],
   "source": [
    "label_encoder_cut = LabelEncoder()"
   ]
  },
  {
   "cell_type": "code",
   "execution_count": 6,
   "id": "35d41d55",
   "metadata": {},
   "outputs": [
    {
     "data": {
      "text/plain": [
       "LabelEncoder()"
      ]
     },
     "execution_count": 6,
     "metadata": {},
     "output_type": "execute_result"
    }
   ],
   "source": [
    "label_encoder_cut.fit(X[\"cut\"])"
   ]
  },
  {
   "cell_type": "code",
   "execution_count": 7,
   "id": "9a5b8989",
   "metadata": {},
   "outputs": [],
   "source": [
    "X[\"cut\"] = label_encoder_cut.transform(X[\"cut\"])"
   ]
  },
  {
   "cell_type": "code",
   "execution_count": 8,
   "id": "5cbdcc73",
   "metadata": {},
   "outputs": [],
   "source": [
    "label_encoder_color = LabelEncoder()"
   ]
  },
  {
   "cell_type": "code",
   "execution_count": 9,
   "id": "6c69d068",
   "metadata": {},
   "outputs": [
    {
     "data": {
      "text/plain": [
       "LabelEncoder()"
      ]
     },
     "execution_count": 9,
     "metadata": {},
     "output_type": "execute_result"
    }
   ],
   "source": [
    "label_encoder_color.fit(X[\"color\"])"
   ]
  },
  {
   "cell_type": "code",
   "execution_count": 10,
   "id": "5bc10bf1",
   "metadata": {},
   "outputs": [],
   "source": [
    "X[\"color\"] = label_encoder_color.transform(X[\"color\"])"
   ]
  },
  {
   "cell_type": "code",
   "execution_count": 11,
   "id": "2748df27",
   "metadata": {},
   "outputs": [],
   "source": [
    "label_encoder_clarity = LabelEncoder()"
   ]
  },
  {
   "cell_type": "code",
   "execution_count": 12,
   "id": "4cb09fc5",
   "metadata": {},
   "outputs": [
    {
     "data": {
      "text/plain": [
       "LabelEncoder()"
      ]
     },
     "execution_count": 12,
     "metadata": {},
     "output_type": "execute_result"
    }
   ],
   "source": [
    "label_encoder_clarity.fit(X[\"clarity\"])"
   ]
  },
  {
   "cell_type": "code",
   "execution_count": 13,
   "id": "76159a46",
   "metadata": {},
   "outputs": [],
   "source": [
    "X[\"clarity\"] = label_encoder_clarity.transform(X[\"clarity\"])"
   ]
  },
  {
   "cell_type": "code",
   "execution_count": 14,
   "id": "8690be8d",
   "metadata": {},
   "outputs": [],
   "source": [
    "from sklearn.model_selection import train_test_split\n",
    "\n",
    "X_train, X_test, y_train, y_test = train_test_split(X,y)"
   ]
  },
  {
   "cell_type": "code",
   "execution_count": 53,
   "id": "af643959",
   "metadata": {},
   "outputs": [
    {
     "name": "stdout",
     "output_type": "stream",
     "text": [
      "Train: 1112.030239349663\n",
      "Test: 1148.8092590370854\n"
     ]
    }
   ],
   "source": [
    "from sklearn.linear_model import TweedieRegressor\n",
    "from sklearn.pipeline import make_pipeline\n",
    "from sklearn.preprocessing import PowerTransformer\n",
    "from sklearn.metrics import mean_squared_error as mse\n",
    "tr = make_pipeline(PowerTransformer(),TweedieRegressor(power=1, link='log'))\n",
    "tr.fit(X_train, y_train)\n",
    "y_pred_train = tr.predict(X_train)\n",
    "y_pred_test = tr.predict(X_test)\n",
    "\n",
    "print(\"Train:\", mse(y_train,y_pred_train, squared=False))\n",
    "print(\"Test:\", mse(y_test,y_pred_test, squared=False))"
   ]
  },
  {
   "cell_type": "code",
   "execution_count": 54,
   "id": "fb9d02fa",
   "metadata": {},
   "outputs": [
    {
     "data": {
      "text/plain": [
       "Pipeline(steps=[('powertransformer', PowerTransformer()),\n",
       "                ('tweedieregressor', TweedieRegressor(link='log', power=1))])"
      ]
     },
     "execution_count": 54,
     "metadata": {},
     "output_type": "execute_result"
    }
   ],
   "source": [
    "tr.fit(X,y)"
   ]
  },
  {
   "cell_type": "code",
   "execution_count": 55,
   "id": "589d4b8f",
   "metadata": {},
   "outputs": [],
   "source": [
    "predict = pd.read_csv('predict.csv')"
   ]
  },
  {
   "cell_type": "code",
   "execution_count": 56,
   "id": "fa552052",
   "metadata": {},
   "outputs": [
    {
     "data": {
      "text/plain": [
       "LabelEncoder()"
      ]
     },
     "execution_count": 56,
     "metadata": {},
     "output_type": "execute_result"
    }
   ],
   "source": [
    "label_encoder_cut.fit(predict[\"cut\"])"
   ]
  },
  {
   "cell_type": "code",
   "execution_count": 57,
   "id": "6e804016",
   "metadata": {},
   "outputs": [],
   "source": [
    "predict[\"cut\"] = label_encoder_cut.transform(predict[\"cut\"])"
   ]
  },
  {
   "cell_type": "code",
   "execution_count": 58,
   "id": "eea10425",
   "metadata": {},
   "outputs": [
    {
     "data": {
      "text/plain": [
       "LabelEncoder()"
      ]
     },
     "execution_count": 58,
     "metadata": {},
     "output_type": "execute_result"
    }
   ],
   "source": [
    "label_encoder_color.fit(predict[\"color\"])"
   ]
  },
  {
   "cell_type": "code",
   "execution_count": 59,
   "id": "06f2a8d1",
   "metadata": {},
   "outputs": [],
   "source": [
    "predict[\"color\"] = label_encoder_color.transform(predict[\"color\"])"
   ]
  },
  {
   "cell_type": "code",
   "execution_count": 60,
   "id": "2505d034",
   "metadata": {},
   "outputs": [
    {
     "data": {
      "text/plain": [
       "LabelEncoder()"
      ]
     },
     "execution_count": 60,
     "metadata": {},
     "output_type": "execute_result"
    }
   ],
   "source": [
    "label_encoder_clarity.fit(predict[\"clarity\"])"
   ]
  },
  {
   "cell_type": "code",
   "execution_count": 61,
   "id": "85a40872",
   "metadata": {},
   "outputs": [],
   "source": [
    "predict[\"clarity\"] = label_encoder_clarity.transform(predict[\"clarity\"])"
   ]
  },
  {
   "cell_type": "code",
   "execution_count": 63,
   "id": "4363d712",
   "metadata": {},
   "outputs": [],
   "source": [
    "y_pred = tr.predict(predict)"
   ]
  },
  {
   "cell_type": "code",
   "execution_count": 64,
   "id": "2e545159",
   "metadata": {},
   "outputs": [],
   "source": [
    "df_4 = pd.DataFrame({\"index\":predict[\"index\"], \"price\":y_pred})"
   ]
  },
  {
   "cell_type": "code",
   "execution_count": 65,
   "id": "9857d0d9",
   "metadata": {},
   "outputs": [],
   "source": [
    "df_4.to_csv('submission_4.csv', index=False)"
   ]
  },
  {
   "cell_type": "code",
   "execution_count": null,
   "id": "5cbd0e69",
   "metadata": {},
   "outputs": [],
   "source": []
  }
 ],
 "metadata": {
  "kernelspec": {
   "display_name": "Python 3 (ipykernel)",
   "language": "python",
   "name": "python3"
  },
  "language_info": {
   "codemirror_mode": {
    "name": "ipython",
    "version": 3
   },
   "file_extension": ".py",
   "mimetype": "text/x-python",
   "name": "python",
   "nbconvert_exporter": "python",
   "pygments_lexer": "ipython3",
   "version": "3.8.11"
  }
 },
 "nbformat": 4,
 "nbformat_minor": 5
}
