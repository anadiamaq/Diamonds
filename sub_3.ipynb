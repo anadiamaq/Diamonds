{
 "cells": [
  {
   "cell_type": "code",
   "execution_count": 1,
   "id": "48f2c799",
   "metadata": {},
   "outputs": [],
   "source": [
    "import pandas as pd\n",
    "import numpy as np"
   ]
  },
  {
   "cell_type": "code",
   "execution_count": 2,
   "id": "092a7a5e",
   "metadata": {},
   "outputs": [],
   "source": [
    "df = pd.read_csv('data.csv')"
   ]
  },
  {
   "cell_type": "code",
   "execution_count": 3,
   "id": "e833b5e9",
   "metadata": {},
   "outputs": [],
   "source": [
    "y = df[\"price\"]\n",
    "X = df.drop(columns=[\"price\"])"
   ]
  },
  {
   "cell_type": "code",
   "execution_count": 4,
   "id": "3a4b1a5a",
   "metadata": {},
   "outputs": [],
   "source": [
    "from sklearn.preprocessing import LabelEncoder"
   ]
  },
  {
   "cell_type": "code",
   "execution_count": 5,
   "id": "581f955d",
   "metadata": {},
   "outputs": [],
   "source": [
    "label_encoder_cut = LabelEncoder()"
   ]
  },
  {
   "cell_type": "code",
   "execution_count": 6,
   "id": "be3d6755",
   "metadata": {},
   "outputs": [
    {
     "data": {
      "text/plain": [
       "LabelEncoder()"
      ]
     },
     "execution_count": 6,
     "metadata": {},
     "output_type": "execute_result"
    }
   ],
   "source": [
    "label_encoder_cut.fit(X[\"cut\"])"
   ]
  },
  {
   "cell_type": "code",
   "execution_count": 7,
   "id": "11c73b1e",
   "metadata": {},
   "outputs": [],
   "source": [
    "X[\"cut\"] = label_encoder_cut.transform(X[\"cut\"])"
   ]
  },
  {
   "cell_type": "code",
   "execution_count": 8,
   "id": "26e0f0e6",
   "metadata": {},
   "outputs": [],
   "source": [
    "label_encoder_color = LabelEncoder()"
   ]
  },
  {
   "cell_type": "code",
   "execution_count": 9,
   "id": "9d050f71",
   "metadata": {},
   "outputs": [
    {
     "data": {
      "text/plain": [
       "LabelEncoder()"
      ]
     },
     "execution_count": 9,
     "metadata": {},
     "output_type": "execute_result"
    }
   ],
   "source": [
    "label_encoder_color.fit(X[\"color\"])"
   ]
  },
  {
   "cell_type": "code",
   "execution_count": 10,
   "id": "53faa021",
   "metadata": {},
   "outputs": [],
   "source": [
    "X[\"color\"] = label_encoder_color.transform(X[\"color\"])"
   ]
  },
  {
   "cell_type": "code",
   "execution_count": 11,
   "id": "86646328",
   "metadata": {},
   "outputs": [],
   "source": [
    "label_encoder_clarity = LabelEncoder()"
   ]
  },
  {
   "cell_type": "code",
   "execution_count": 12,
   "id": "37ff5942",
   "metadata": {},
   "outputs": [
    {
     "data": {
      "text/plain": [
       "LabelEncoder()"
      ]
     },
     "execution_count": 12,
     "metadata": {},
     "output_type": "execute_result"
    }
   ],
   "source": [
    "label_encoder_clarity.fit(X[\"clarity\"])"
   ]
  },
  {
   "cell_type": "code",
   "execution_count": 13,
   "id": "532fef3d",
   "metadata": {},
   "outputs": [],
   "source": [
    "X[\"clarity\"] = label_encoder_clarity.transform(X[\"clarity\"])"
   ]
  },
  {
   "cell_type": "code",
   "execution_count": 14,
   "id": "1a0523cf",
   "metadata": {},
   "outputs": [],
   "source": [
    "from sklearn.model_selection import train_test_split\n",
    "\n",
    "X_train, X_test, y_train, y_test = train_test_split(X,y)"
   ]
  },
  {
   "cell_type": "code",
   "execution_count": 18,
   "id": "e24f4e46",
   "metadata": {},
   "outputs": [
    {
     "name": "stdout",
     "output_type": "stream",
     "text": [
      "Train: 1339.194958515103\n",
      "Test: 1360.0306262640172\n"
     ]
    }
   ],
   "source": [
    "from sklearn.linear_model import Ridge\n",
    "from sklearn.preprocessing import StandardScaler\n",
    "from sklearn.pipeline import make_pipeline\n",
    "from sklearn.metrics import mean_squared_error as mse\n",
    "rid = make_pipeline(StandardScaler(),Ridge(alpha=1.0))\n",
    "rid.fit(X_train, y_train)\n",
    "y_pred_train = rid.predict(X_train)\n",
    "y_pred_test = rid.predict(X_test)\n",
    "\n",
    "print(\"Train:\", mse(y_train,y_pred_train, squared=False))\n",
    "print(\"Test:\", mse(y_test,y_pred_test, squared=False))"
   ]
  },
  {
   "cell_type": "code",
   "execution_count": 19,
   "id": "92e829ac",
   "metadata": {},
   "outputs": [
    {
     "data": {
      "text/plain": [
       "Pipeline(steps=[('standardscaler', StandardScaler()), ('ridge', Ridge())])"
      ]
     },
     "execution_count": 19,
     "metadata": {},
     "output_type": "execute_result"
    }
   ],
   "source": [
    "rid.fit(X,y)"
   ]
  },
  {
   "cell_type": "code",
   "execution_count": 20,
   "id": "bf01942e",
   "metadata": {},
   "outputs": [],
   "source": [
    "predict = pd.read_csv('predict.csv')"
   ]
  },
  {
   "cell_type": "code",
   "execution_count": 21,
   "id": "6efd6ccc",
   "metadata": {},
   "outputs": [
    {
     "data": {
      "text/plain": [
       "LabelEncoder()"
      ]
     },
     "execution_count": 21,
     "metadata": {},
     "output_type": "execute_result"
    }
   ],
   "source": [
    "label_encoder_cut.fit(predict[\"cut\"])"
   ]
  },
  {
   "cell_type": "code",
   "execution_count": 22,
   "id": "d2e54448",
   "metadata": {},
   "outputs": [],
   "source": [
    "predict[\"cut\"] = label_encoder_cut.transform(predict[\"cut\"])"
   ]
  },
  {
   "cell_type": "code",
   "execution_count": 23,
   "id": "3e726ba5",
   "metadata": {},
   "outputs": [
    {
     "data": {
      "text/plain": [
       "LabelEncoder()"
      ]
     },
     "execution_count": 23,
     "metadata": {},
     "output_type": "execute_result"
    }
   ],
   "source": [
    "label_encoder_color.fit(predict[\"color\"])"
   ]
  },
  {
   "cell_type": "code",
   "execution_count": 24,
   "id": "d83fd0d0",
   "metadata": {},
   "outputs": [],
   "source": [
    "predict[\"color\"] = label_encoder_color.transform(predict[\"color\"])"
   ]
  },
  {
   "cell_type": "code",
   "execution_count": 25,
   "id": "ef727ba3",
   "metadata": {},
   "outputs": [
    {
     "data": {
      "text/plain": [
       "LabelEncoder()"
      ]
     },
     "execution_count": 25,
     "metadata": {},
     "output_type": "execute_result"
    }
   ],
   "source": [
    "label_encoder_clarity.fit(predict[\"clarity\"])"
   ]
  },
  {
   "cell_type": "code",
   "execution_count": 26,
   "id": "a7d7ab52",
   "metadata": {},
   "outputs": [],
   "source": [
    "predict[\"clarity\"] = label_encoder_clarity.transform(predict[\"clarity\"])"
   ]
  },
  {
   "cell_type": "code",
   "execution_count": 28,
   "id": "4f8c5ec7",
   "metadata": {},
   "outputs": [],
   "source": [
    "y_pred = rid.predict(predict)"
   ]
  },
  {
   "cell_type": "code",
   "execution_count": 29,
   "id": "2b4471a1",
   "metadata": {},
   "outputs": [],
   "source": [
    "df_3 = pd.DataFrame({\"index\":predict[\"index\"], \"price\":y_pred})"
   ]
  },
  {
   "cell_type": "code",
   "execution_count": 30,
   "id": "e8e35c8d",
   "metadata": {},
   "outputs": [],
   "source": [
    "df_3.to_csv('submission_3.csv', index=False)"
   ]
  },
  {
   "cell_type": "code",
   "execution_count": null,
   "id": "fd9fb4df",
   "metadata": {},
   "outputs": [],
   "source": []
  }
 ],
 "metadata": {
  "kernelspec": {
   "display_name": "Python 3 (ipykernel)",
   "language": "python",
   "name": "python3"
  },
  "language_info": {
   "codemirror_mode": {
    "name": "ipython",
    "version": 3
   },
   "file_extension": ".py",
   "mimetype": "text/x-python",
   "name": "python",
   "nbconvert_exporter": "python",
   "pygments_lexer": "ipython3",
   "version": "3.8.11"
  }
 },
 "nbformat": 4,
 "nbformat_minor": 5
}
