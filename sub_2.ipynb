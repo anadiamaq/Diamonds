{
 "cells": [
  {
   "cell_type": "code",
   "execution_count": 45,
   "id": "2b126e8c",
   "metadata": {},
   "outputs": [],
   "source": [
    "import pandas as pd\n",
    "import numpy as np"
   ]
  },
  {
   "cell_type": "code",
   "execution_count": 46,
   "id": "b86cd835",
   "metadata": {},
   "outputs": [],
   "source": [
    "df = pd.read_csv('data.csv')"
   ]
  },
  {
   "cell_type": "code",
   "execution_count": 47,
   "id": "a730e584",
   "metadata": {},
   "outputs": [],
   "source": [
    "y = df[\"price\"]\n",
    "X = df.drop(columns=[\"price\"])"
   ]
  },
  {
   "cell_type": "code",
   "execution_count": 48,
   "id": "be12b248",
   "metadata": {},
   "outputs": [],
   "source": [
    "from sklearn.preprocessing import LabelEncoder"
   ]
  },
  {
   "cell_type": "code",
   "execution_count": 49,
   "id": "a7a064fd",
   "metadata": {},
   "outputs": [],
   "source": [
    "label_encoder_cut = LabelEncoder()"
   ]
  },
  {
   "cell_type": "code",
   "execution_count": 50,
   "id": "8c8be232",
   "metadata": {},
   "outputs": [
    {
     "data": {
      "text/plain": [
       "LabelEncoder()"
      ]
     },
     "execution_count": 50,
     "metadata": {},
     "output_type": "execute_result"
    }
   ],
   "source": [
    "label_encoder_cut.fit(X[\"cut\"])"
   ]
  },
  {
   "cell_type": "code",
   "execution_count": 51,
   "id": "c4ed1b71",
   "metadata": {},
   "outputs": [],
   "source": [
    "X[\"cut\"] = label_encoder_cut.transform(X[\"cut\"])"
   ]
  },
  {
   "cell_type": "code",
   "execution_count": 52,
   "id": "62767530",
   "metadata": {},
   "outputs": [],
   "source": [
    "label_encoder_color = LabelEncoder()"
   ]
  },
  {
   "cell_type": "code",
   "execution_count": 53,
   "id": "873fd874",
   "metadata": {},
   "outputs": [
    {
     "data": {
      "text/plain": [
       "LabelEncoder()"
      ]
     },
     "execution_count": 53,
     "metadata": {},
     "output_type": "execute_result"
    }
   ],
   "source": [
    "label_encoder_color.fit(X[\"color\"])"
   ]
  },
  {
   "cell_type": "code",
   "execution_count": 54,
   "id": "df4abcf4",
   "metadata": {},
   "outputs": [],
   "source": [
    "X[\"color\"] = label_encoder_color.transform(X[\"color\"])"
   ]
  },
  {
   "cell_type": "code",
   "execution_count": 55,
   "id": "51598daa",
   "metadata": {},
   "outputs": [],
   "source": [
    "label_encoder_clarity = LabelEncoder()"
   ]
  },
  {
   "cell_type": "code",
   "execution_count": 56,
   "id": "dce97c4f",
   "metadata": {},
   "outputs": [
    {
     "data": {
      "text/plain": [
       "LabelEncoder()"
      ]
     },
     "execution_count": 56,
     "metadata": {},
     "output_type": "execute_result"
    }
   ],
   "source": [
    "label_encoder_clarity.fit(X[\"clarity\"])"
   ]
  },
  {
   "cell_type": "code",
   "execution_count": 57,
   "id": "858cb99f",
   "metadata": {},
   "outputs": [],
   "source": [
    "X[\"clarity\"] = label_encoder_clarity.transform(X[\"clarity\"])"
   ]
  },
  {
   "cell_type": "code",
   "execution_count": 58,
   "id": "0c51ade6",
   "metadata": {},
   "outputs": [],
   "source": [
    "from sklearn.model_selection import train_test_split\n",
    "\n",
    "X_train, X_test, y_train, y_test = train_test_split(X,y)"
   ]
  },
  {
   "cell_type": "code",
   "execution_count": 61,
   "id": "87434897",
   "metadata": {},
   "outputs": [
    {
     "name": "stdout",
     "output_type": "stream",
     "text": [
      "Train: 1343.305454671469\n",
      "Test: 1347.57232000719\n"
     ]
    }
   ],
   "source": [
    "from sklearn import linear_model\n",
    "from sklearn.preprocessing import StandardScaler\n",
    "from sklearn.pipeline import make_pipeline\n",
    "from sklearn.metrics import mean_squared_error as mse\n",
    "bay = make_pipeline(StandardScaler(),linear_model.BayesianRidge())\n",
    "bay.fit(X_train, y_train)\n",
    "y_pred_train = bay.predict(X_train)\n",
    "y_pred_test = bay.predict(X_test)\n",
    "\n",
    "print(\"Train:\", mse(y_train,y_pred_train, squared=False))\n",
    "print(\"Test:\", mse(y_test,y_pred_test, squared=False))"
   ]
  },
  {
   "cell_type": "code",
   "execution_count": 63,
   "id": "6e12d30c",
   "metadata": {},
   "outputs": [
    {
     "data": {
      "text/plain": [
       "['fit_time', 'score_time', 'test_score']"
      ]
     },
     "execution_count": 63,
     "metadata": {},
     "output_type": "execute_result"
    }
   ],
   "source": [
    "from sklearn.model_selection import cross_validate\n",
    "cv_results = cross_validate(bay, X, y, cv=3)\n",
    "sorted(cv_results.keys())"
   ]
  },
  {
   "cell_type": "code",
   "execution_count": 64,
   "id": "0d97dafd",
   "metadata": {},
   "outputs": [
    {
     "data": {
      "text/plain": [
       "array([0.89094621, 0.88313933, 0.88172438])"
      ]
     },
     "execution_count": 64,
     "metadata": {},
     "output_type": "execute_result"
    }
   ],
   "source": [
    "cv_results['test_score']"
   ]
  },
  {
   "cell_type": "code",
   "execution_count": 77,
   "id": "627aa647",
   "metadata": {},
   "outputs": [
    {
     "data": {
      "text/plain": [
       "Pipeline(steps=[('standardscaler', StandardScaler()),\n",
       "                ('bayesianridge', BayesianRidge())])"
      ]
     },
     "execution_count": 77,
     "metadata": {},
     "output_type": "execute_result"
    }
   ],
   "source": [
    "bay.fit(X,y)"
   ]
  },
  {
   "cell_type": "code",
   "execution_count": 78,
   "id": "0e3aaf08",
   "metadata": {},
   "outputs": [],
   "source": [
    "predict = pd.read_csv('predict.csv')"
   ]
  },
  {
   "cell_type": "code",
   "execution_count": 79,
   "id": "d0ba50fa",
   "metadata": {},
   "outputs": [
    {
     "data": {
      "text/plain": [
       "LabelEncoder()"
      ]
     },
     "execution_count": 79,
     "metadata": {},
     "output_type": "execute_result"
    }
   ],
   "source": [
    "label_encoder_cut.fit(predict[\"cut\"])"
   ]
  },
  {
   "cell_type": "code",
   "execution_count": 80,
   "id": "55f8e7a7",
   "metadata": {},
   "outputs": [],
   "source": [
    "predict[\"cut\"] = label_encoder_cut.transform(predict[\"cut\"])"
   ]
  },
  {
   "cell_type": "code",
   "execution_count": 81,
   "id": "e217266f",
   "metadata": {},
   "outputs": [
    {
     "data": {
      "text/plain": [
       "LabelEncoder()"
      ]
     },
     "execution_count": 81,
     "metadata": {},
     "output_type": "execute_result"
    }
   ],
   "source": [
    "label_encoder_color.fit(predict[\"color\"])"
   ]
  },
  {
   "cell_type": "code",
   "execution_count": 82,
   "id": "e92b4d05",
   "metadata": {},
   "outputs": [],
   "source": [
    "predict[\"color\"] = label_encoder_color.transform(predict[\"color\"])"
   ]
  },
  {
   "cell_type": "code",
   "execution_count": 83,
   "id": "f28e1bcc",
   "metadata": {},
   "outputs": [
    {
     "data": {
      "text/plain": [
       "LabelEncoder()"
      ]
     },
     "execution_count": 83,
     "metadata": {},
     "output_type": "execute_result"
    }
   ],
   "source": [
    "label_encoder_clarity.fit(predict[\"clarity\"])"
   ]
  },
  {
   "cell_type": "code",
   "execution_count": 84,
   "id": "ba55ac9e",
   "metadata": {},
   "outputs": [],
   "source": [
    "predict[\"clarity\"] = label_encoder_clarity.transform(predict[\"clarity\"])"
   ]
  },
  {
   "cell_type": "code",
   "execution_count": 86,
   "id": "7099746a",
   "metadata": {},
   "outputs": [],
   "source": [
    "y_pred = bay.predict(predict)"
   ]
  },
  {
   "cell_type": "code",
   "execution_count": 87,
   "id": "ac30391f",
   "metadata": {},
   "outputs": [],
   "source": [
    "df_2 = pd.DataFrame({\"index\":predict[\"index\"], \"price\":y_pred})"
   ]
  },
  {
   "cell_type": "code",
   "execution_count": 88,
   "id": "c5b07a22",
   "metadata": {},
   "outputs": [],
   "source": [
    "df_2.to_csv('submission_2.csv', index=False)"
   ]
  },
  {
   "cell_type": "code",
   "execution_count": null,
   "id": "9005e3e7",
   "metadata": {},
   "outputs": [],
   "source": []
  }
 ],
 "metadata": {
  "kernelspec": {
   "display_name": "Python 3 (ipykernel)",
   "language": "python",
   "name": "python3"
  },
  "language_info": {
   "codemirror_mode": {
    "name": "ipython",
    "version": 3
   },
   "file_extension": ".py",
   "mimetype": "text/x-python",
   "name": "python",
   "nbconvert_exporter": "python",
   "pygments_lexer": "ipython3",
   "version": "3.8.11"
  }
 },
 "nbformat": 4,
 "nbformat_minor": 5
}
