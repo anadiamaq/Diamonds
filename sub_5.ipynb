{
 "cells": [
  {
   "cell_type": "code",
   "execution_count": 1,
   "id": "2d0ca56b",
   "metadata": {},
   "outputs": [],
   "source": [
    "import pandas as pd\n",
    "import numpy as np"
   ]
  },
  {
   "cell_type": "code",
   "execution_count": 2,
   "id": "ea6ef16f",
   "metadata": {},
   "outputs": [],
   "source": [
    "df = pd.read_csv('data.csv')"
   ]
  },
  {
   "cell_type": "code",
   "execution_count": 3,
   "id": "5465a2ba",
   "metadata": {},
   "outputs": [],
   "source": [
    "y = df[\"price\"]\n",
    "X = df.drop(columns=[\"price\"])"
   ]
  },
  {
   "cell_type": "code",
   "execution_count": 4,
   "id": "5df7f247",
   "metadata": {},
   "outputs": [],
   "source": [
    "from sklearn.preprocessing import LabelEncoder"
   ]
  },
  {
   "cell_type": "code",
   "execution_count": 5,
   "id": "a727c633",
   "metadata": {},
   "outputs": [],
   "source": [
    "label_encoder_cut = LabelEncoder()"
   ]
  },
  {
   "cell_type": "code",
   "execution_count": 6,
   "id": "12a70ca4",
   "metadata": {},
   "outputs": [
    {
     "data": {
      "text/plain": [
       "LabelEncoder()"
      ]
     },
     "execution_count": 6,
     "metadata": {},
     "output_type": "execute_result"
    }
   ],
   "source": [
    "label_encoder_cut.fit(X[\"cut\"])"
   ]
  },
  {
   "cell_type": "code",
   "execution_count": 7,
   "id": "40810601",
   "metadata": {},
   "outputs": [],
   "source": [
    "X[\"cut\"] = label_encoder_cut.transform(X[\"cut\"])"
   ]
  },
  {
   "cell_type": "code",
   "execution_count": 8,
   "id": "953eb6f8",
   "metadata": {},
   "outputs": [],
   "source": [
    "label_encoder_color = LabelEncoder()"
   ]
  },
  {
   "cell_type": "code",
   "execution_count": 9,
   "id": "ca84ef71",
   "metadata": {},
   "outputs": [
    {
     "data": {
      "text/plain": [
       "LabelEncoder()"
      ]
     },
     "execution_count": 9,
     "metadata": {},
     "output_type": "execute_result"
    }
   ],
   "source": [
    "label_encoder_color.fit(X[\"color\"])"
   ]
  },
  {
   "cell_type": "code",
   "execution_count": 10,
   "id": "e1997599",
   "metadata": {},
   "outputs": [],
   "source": [
    "X[\"color\"] = label_encoder_color.transform(X[\"color\"])"
   ]
  },
  {
   "cell_type": "code",
   "execution_count": 11,
   "id": "058c45a8",
   "metadata": {},
   "outputs": [],
   "source": [
    "label_encoder_clarity = LabelEncoder()"
   ]
  },
  {
   "cell_type": "code",
   "execution_count": 12,
   "id": "ec220514",
   "metadata": {},
   "outputs": [
    {
     "data": {
      "text/plain": [
       "LabelEncoder()"
      ]
     },
     "execution_count": 12,
     "metadata": {},
     "output_type": "execute_result"
    }
   ],
   "source": [
    "label_encoder_clarity.fit(X[\"clarity\"])"
   ]
  },
  {
   "cell_type": "code",
   "execution_count": 13,
   "id": "f211c2b3",
   "metadata": {},
   "outputs": [],
   "source": [
    "X[\"clarity\"] = label_encoder_clarity.transform(X[\"clarity\"])"
   ]
  },
  {
   "cell_type": "code",
   "execution_count": 14,
   "id": "4d8500b3",
   "metadata": {},
   "outputs": [],
   "source": [
    "from sklearn.model_selection import train_test_split\n",
    "\n",
    "X_train, X_test, y_train, y_test = train_test_split(X,y)"
   ]
  },
  {
   "cell_type": "code",
   "execution_count": 1,
   "id": "758eb6d4",
   "metadata": {},
   "outputs": [
    {
     "ename": "NameError",
     "evalue": "name 'X_train' is not defined",
     "output_type": "error",
     "traceback": [
      "\u001b[0;31m---------------------------------------------------------------------------\u001b[0m",
      "\u001b[0;31mNameError\u001b[0m                                 Traceback (most recent call last)",
      "\u001b[0;32m/tmp/ipykernel_146/1954353849.py\u001b[0m in \u001b[0;36m<module>\u001b[0;34m\u001b[0m\n\u001b[1;32m      4\u001b[0m \u001b[0;32mfrom\u001b[0m \u001b[0msklearn\u001b[0m\u001b[0;34m.\u001b[0m\u001b[0mmetrics\u001b[0m \u001b[0;32mimport\u001b[0m \u001b[0mmean_squared_error\u001b[0m \u001b[0;32mas\u001b[0m \u001b[0mmse\u001b[0m\u001b[0;34m\u001b[0m\u001b[0;34m\u001b[0m\u001b[0m\n\u001b[1;32m      5\u001b[0m \u001b[0mlr\u001b[0m \u001b[0;34m=\u001b[0m \u001b[0mmake_pipeline\u001b[0m\u001b[0;34m(\u001b[0m\u001b[0mStandardScaler\u001b[0m\u001b[0;34m(\u001b[0m\u001b[0;34m)\u001b[0m\u001b[0;34m,\u001b[0m\u001b[0mLinearRegression\u001b[0m\u001b[0;34m(\u001b[0m\u001b[0;34m)\u001b[0m\u001b[0;34m)\u001b[0m\u001b[0;34m\u001b[0m\u001b[0;34m\u001b[0m\u001b[0m\n\u001b[0;32m----> 6\u001b[0;31m \u001b[0mlr\u001b[0m\u001b[0;34m.\u001b[0m\u001b[0mfit\u001b[0m\u001b[0;34m(\u001b[0m\u001b[0mX_train\u001b[0m\u001b[0;34m,\u001b[0m \u001b[0my_train\u001b[0m\u001b[0;34m)\u001b[0m\u001b[0;34m\u001b[0m\u001b[0;34m\u001b[0m\u001b[0m\n\u001b[0m\u001b[1;32m      7\u001b[0m \u001b[0my_pred_train\u001b[0m \u001b[0;34m=\u001b[0m \u001b[0mlr\u001b[0m\u001b[0;34m.\u001b[0m\u001b[0mpredict\u001b[0m\u001b[0;34m(\u001b[0m\u001b[0mX_train\u001b[0m\u001b[0;34m)\u001b[0m\u001b[0;34m\u001b[0m\u001b[0;34m\u001b[0m\u001b[0m\n\u001b[1;32m      8\u001b[0m \u001b[0my_pred_test\u001b[0m \u001b[0;34m=\u001b[0m \u001b[0mlr\u001b[0m\u001b[0;34m.\u001b[0m\u001b[0mpredict\u001b[0m\u001b[0;34m(\u001b[0m\u001b[0mX_test\u001b[0m\u001b[0;34m)\u001b[0m\u001b[0;34m\u001b[0m\u001b[0;34m\u001b[0m\u001b[0m\n",
      "\u001b[0;31mNameError\u001b[0m: name 'X_train' is not defined"
     ]
    }
   ],
   "source": [
    "from sklearn.linear_model import LinearRegression\n",
    "from sklearn.pipeline import make_pipeline\n",
    "from sklearn.preprocessing import StandardScaler\n",
    "from sklearn.metrics import mean_squared_error as mse\n",
    "lr = make_pipeline(StandardScaler(),LinearRegression())\n",
    "lr.fit(X_train, y_train)\n",
    "y_pred_train = lr.predict(X_train)\n",
    "y_pred_test = lr.predict(X_test)\n",
    "\n",
    "print(\"Train:\", mse(y_train,y_pred_train, squared=False))\n",
    "print(\"Test:\", mse(y_test,y_pred_test, squared=False))"
   ]
  },
  {
   "cell_type": "code",
   "execution_count": 36,
   "id": "9b4c39e5",
   "metadata": {},
   "outputs": [
    {
     "data": {
      "text/plain": [
       "Pipeline(steps=[('polynomialfeatures', PolynomialFeatures(degree=3)),\n",
       "                ('linearregression', LinearRegression())])"
      ]
     },
     "execution_count": 36,
     "metadata": {},
     "output_type": "execute_result"
    }
   ],
   "source": [
    "lr.fit(X,y)"
   ]
  },
  {
   "cell_type": "code",
   "execution_count": 37,
   "id": "e1424c07",
   "metadata": {},
   "outputs": [],
   "source": [
    "predict = pd.read_csv('predict.csv')"
   ]
  },
  {
   "cell_type": "code",
   "execution_count": 38,
   "id": "bbdaf99b",
   "metadata": {},
   "outputs": [
    {
     "data": {
      "text/plain": [
       "LabelEncoder()"
      ]
     },
     "execution_count": 38,
     "metadata": {},
     "output_type": "execute_result"
    }
   ],
   "source": [
    "label_encoder_cut.fit(predict[\"cut\"])"
   ]
  },
  {
   "cell_type": "code",
   "execution_count": 39,
   "id": "30cddd84",
   "metadata": {},
   "outputs": [],
   "source": [
    "predict[\"cut\"] = label_encoder_cut.transform(predict[\"cut\"])"
   ]
  },
  {
   "cell_type": "code",
   "execution_count": 40,
   "id": "3080e23a",
   "metadata": {},
   "outputs": [
    {
     "data": {
      "text/plain": [
       "LabelEncoder()"
      ]
     },
     "execution_count": 40,
     "metadata": {},
     "output_type": "execute_result"
    }
   ],
   "source": [
    "label_encoder_color.fit(predict[\"color\"])"
   ]
  },
  {
   "cell_type": "code",
   "execution_count": 41,
   "id": "9b91939d",
   "metadata": {},
   "outputs": [],
   "source": [
    "predict[\"color\"] = label_encoder_color.transform(predict[\"color\"])"
   ]
  },
  {
   "cell_type": "code",
   "execution_count": 42,
   "id": "ae05896b",
   "metadata": {},
   "outputs": [
    {
     "data": {
      "text/plain": [
       "LabelEncoder()"
      ]
     },
     "execution_count": 42,
     "metadata": {},
     "output_type": "execute_result"
    }
   ],
   "source": [
    "label_encoder_clarity.fit(predict[\"clarity\"])"
   ]
  },
  {
   "cell_type": "code",
   "execution_count": 43,
   "id": "18364fe6",
   "metadata": {},
   "outputs": [],
   "source": [
    "predict[\"clarity\"] = label_encoder_clarity.transform(predict[\"clarity\"])"
   ]
  },
  {
   "cell_type": "code",
   "execution_count": 44,
   "id": "bb9f23a6",
   "metadata": {},
   "outputs": [],
   "source": [
    "y_pred = lr.predict(predict)"
   ]
  },
  {
   "cell_type": "code",
   "execution_count": 45,
   "id": "84fa56b2",
   "metadata": {},
   "outputs": [],
   "source": [
    "df_5 = pd.DataFrame({\"index\":predict[\"index\"], \"price\":y_pred})"
   ]
  },
  {
   "cell_type": "code",
   "execution_count": 46,
   "id": "9f42b054",
   "metadata": {},
   "outputs": [],
   "source": [
    "df_5.to_csv('submission_5.csv', index=False)"
   ]
  },
  {
   "cell_type": "code",
   "execution_count": null,
   "id": "746b46b5",
   "metadata": {},
   "outputs": [],
   "source": []
  }
 ],
 "metadata": {
  "kernelspec": {
   "display_name": "Python 3 (ipykernel)",
   "language": "python",
   "name": "python3"
  },
  "language_info": {
   "codemirror_mode": {
    "name": "ipython",
    "version": 3
   },
   "file_extension": ".py",
   "mimetype": "text/x-python",
   "name": "python",
   "nbconvert_exporter": "python",
   "pygments_lexer": "ipython3",
   "version": "3.8.11"
  }
 },
 "nbformat": 4,
 "nbformat_minor": 5
}
